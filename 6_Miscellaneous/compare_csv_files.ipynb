{
 "cells": [
  {
   "cell_type": "code",
   "execution_count": 2,
   "metadata": {},
   "outputs": [
    {
     "name": "stdout",
     "output_type": "stream",
     "text": [
      "The columns in both files are the same.\n",
      "The files are identical.\n"
     ]
    }
   ],
   "source": [
    "import pandas as pd\n",
    "\n",
    "# Load the two CSV files into pandas DataFrames\n",
    "file1 = './files_to_compare/filtered_209671000_20241127_1718-20241127_1732_standardized_10s_1.csv'\n",
    "file2 = './files_to_compare/filtered_209671000_20241127_1718-20241127_1732_standardized_10s.csv'\n",
    "\n",
    "df1 = pd.read_csv(file1)\n",
    "df2 = pd.read_csv(file2)\n",
    "\n",
    "# Check if the files have the same columns\n",
    "if list(df1.columns) != list(df2.columns):\n",
    "    print(\"The CSV files have different columns.\")\n",
    "else:\n",
    "    print(\"The columns in both files are the same.\")\n",
    "\n",
    "# Compare the DataFrames\n",
    "comparison = df1.compare(df2)\n",
    "\n",
    "# Check if any differences exist\n",
    "if comparison.empty:\n",
    "    print(\"The files are identical.\")\n",
    "else:\n",
    "    print(\"The files have differences:\")\n",
    "    print(comparison)\n",
    "\n",
    "# Optionally, you can also check for any rows that are only in one file and not the other\n",
    "missing_in_file2 = df1.loc[~df1.apply(tuple,1).isin(df2.apply(tuple,1))]\n",
    "missing_in_file1 = df2.loc[~df2.apply(tuple,1).isin(df1.apply(tuple,1))]\n",
    "\n",
    "if not missing_in_file2.empty:\n",
    "    print(\"Rows in file1 but not in file2:\")\n",
    "    print(missing_in_file2)\n",
    "\n",
    "if not missing_in_file1.empty:\n",
    "    print(\"Rows in file2 but not in file1:\")\n",
    "    print(missing_in_file1)\n"
   ]
  }
 ],
 "metadata": {
  "kernelspec": {
   "display_name": "tensorflow_env",
   "language": "python",
   "name": "python3"
  },
  "language_info": {
   "codemirror_mode": {
    "name": "ipython",
    "version": 3
   },
   "file_extension": ".py",
   "mimetype": "text/x-python",
   "name": "python",
   "nbconvert_exporter": "python",
   "pygments_lexer": "ipython3",
   "version": "3.10.15"
  }
 },
 "nbformat": 4,
 "nbformat_minor": 2
}
