{
 "cells": [
  {
   "cell_type": "markdown",
   "metadata": {},
   "source": [
    "# Baseline Model\n",
    "\n",
    "## Table of Contents\n",
    "1. [Model Choice](#model-choice)\n",
    "2. [Feature Selection](#feature-selection)\n",
    "3. [Implementation](#implementation)\n",
    "4. [Evaluation](#evaluation)\n"
   ]
  },
  {
   "cell_type": "markdown",
   "metadata": {},
   "source": [
    "## Model Choice\n",
    "\n",
    "A random forest model is chosen as the baseline model due to its efficiency in grasping more complex situation for binary or multi-class classification tasks. The aim is to see if patterns in the data can be processed into meaningful results by a relatively simple model.\n"
   ]
  },
  {
   "cell_type": "markdown",
   "metadata": {},
   "source": [
    "## Feature Selection\n",
    "\n",
    "The features selected are based on their relevance to predicting Navigational Status. These include:\n",
    "- Speed over Ground (SOG): Vessel speed, which varies significantly across statuses.\n",
    "- Course over Ground (COG): Direction of the vessel.\n",
    "- Heading: Indicates the vessel's orientation.\n",
    "\n",
    "The target variable is Navigational Status."
   ]
  },
  {
   "cell_type": "markdown",
   "metadata": {},
   "source": [
    "## Implementation\n",
    "\n",
    "[Implement your baseline model here.]\n",
    "\n"
   ]
  },
  {
   "cell_type": "code",
   "execution_count": 1,
   "metadata": {},
   "outputs": [
    {
     "name": "stdout",
     "output_type": "stream",
     "text": [
      "Number of sequences: 4366, Sequence length: 180, Features: 5\n",
      "\n",
      "Accuracy: 0.9634\n",
      "\n",
      "Classification Report:\n",
      "              precision    recall  f1-score   support\n",
      "\n",
      "           0       1.00      0.91      0.95        97\n",
      "           1       1.00      0.97      0.98        32\n",
      "           2       0.98      0.89      0.93       132\n",
      "           3       0.00      0.00      0.00         5\n",
      "           4       0.95      1.00      0.97       608\n",
      "\n",
      "    accuracy                           0.96       874\n",
      "   macro avg       0.79      0.75      0.77       874\n",
      "weighted avg       0.96      0.96      0.96       874\n",
      "\n"
     ]
    },
    {
     "name": "stderr",
     "output_type": "stream",
     "text": [
      "/home/codespace/.local/lib/python3.12/site-packages/sklearn/metrics/_classification.py:1531: UndefinedMetricWarning: Precision is ill-defined and being set to 0.0 in labels with no predicted samples. Use `zero_division` parameter to control this behavior.\n",
      "  _warn_prf(average, modifier, f\"{metric.capitalize()} is\", len(result))\n",
      "/home/codespace/.local/lib/python3.12/site-packages/sklearn/metrics/_classification.py:1531: UndefinedMetricWarning: Precision is ill-defined and being set to 0.0 in labels with no predicted samples. Use `zero_division` parameter to control this behavior.\n",
      "  _warn_prf(average, modifier, f\"{metric.capitalize()} is\", len(result))\n",
      "/home/codespace/.local/lib/python3.12/site-packages/sklearn/metrics/_classification.py:1531: UndefinedMetricWarning: Precision is ill-defined and being set to 0.0 in labels with no predicted samples. Use `zero_division` parameter to control this behavior.\n",
      "  _warn_prf(average, modifier, f\"{metric.capitalize()} is\", len(result))\n"
     ]
    },
    {
     "data": {
      "image/png": "[encoded data removed]",
      "text/plain": [
       "<Figure size 1000x700 with 2 Axes>"
      ]
     },
     "metadata": {},
     "output_type": "display_data"
    }
   ],
   "source": [
    "import os\n",
    "import pandas as pd\n",
    "import numpy as np\n",
    "from sklearn.model_selection import train_test_split\n",
    "from sklearn.ensemble import RandomForestClassifier\n",
    "from sklearn.metrics import accuracy_score, classification_report, confusion_matrix\n",
    "from sklearn.preprocessing import StandardScaler\n",
    "import matplotlib.pyplot as plt\n",
    "import seaborn as sns\n",
    "\n",
    "# Define the folder containing 30-minute set files\n",
    "data_folder = './time_sets'\n",
    "\n",
    "# Parameters for sequence processing\n",
    "sequence_length = 180  # Example: 180 rows (one row per 10 seconds in a 30-minute file)\n",
    "feature_columns = ['Latitude', 'Longitude', 'SOG', 'COG', 'Heading']\n",
    "target_column = 'Navigational status'\n",
    "\n",
    "# Function to pad or truncate sequences to fixed length\n",
    "def pad_or_truncate_sequence(data, target, seq_length):\n",
    "    num_rows = data.shape[0]\n",
    "    if num_rows > seq_length:\n",
    "        # Truncate sequence\n",
    "        data = data.iloc[:seq_length]\n",
    "    elif num_rows < seq_length:\n",
    "        # Pad sequence with zeros\n",
    "        padding = pd.DataFrame(0, index=range(seq_length - num_rows), columns=data.columns)\n",
    "        data = pd.concat([data, padding], ignore_index=True)\n",
    "    return data, target\n",
    "\n",
    "# Initialize lists to store sequences and labels\n",
    "sequences = []\n",
    "labels = []\n",
    "\n",
    "# Process each file\n",
    "for file in os.listdir(data_folder):\n",
    "    if file.endswith('.csv'):\n",
    "        file_path = os.path.join(data_folder, file)\n",
    "        df = pd.read_csv(file_path)\n",
    "\n",
    "        # Ensure the required columns exist\n",
    "        if all(col in df.columns for col in feature_columns + [target_column]):\n",
    "            # Extract features and target\n",
    "            features = df[feature_columns]\n",
    "            target = df[target_column].mode()[0]  # Assume the most common status for the file\n",
    "\n",
    "            # Pad or truncate the sequence\n",
    "            features, target = pad_or_truncate_sequence(features, target, sequence_length)\n",
    "\n",
    "            # Append the sequence and label\n",
    "            sequences.append(features.values)\n",
    "            labels.append(target)\n",
    "        else:\n",
    "            print(f\"Skipping {file}, missing required columns.\")\n",
    "\n",
    "# Convert lists to NumPy arrays\n",
    "X = np.array(sequences)  # Shape: [num_samples, sequence_length, num_features]\n",
    "y = np.array(labels)\n",
    "\n",
    "# Log dataset information\n",
    "print(f\"Number of sequences: {X.shape[0]}, Sequence length: {X.shape[1]}, Features: {X.shape[2]}\")\n",
    "\n",
    "# Encode target labels\n",
    "y = pd.Series(y).astype('category').cat.codes.values\n",
    "\n",
    "# Split the dataset into training and test sets\n",
    "X_train, X_test, y_train, y_test = train_test_split(X, y, test_size=0.2, random_state=42)\n",
    "\n",
    "# Flatten sequences for non-sequence models (e.g., Random Forest)\n",
    "X_train_flat = X_train.reshape(X_train.shape[0], -1)\n",
    "X_test_flat = X_test.reshape(X_test.shape[0], -1)\n",
    "\n",
    "# Scale the data\n",
    "scaler = StandardScaler()\n",
    "X_train_scaled = scaler.fit_transform(X_train_flat)\n",
    "X_test_scaled = scaler.transform(X_test_flat)\n",
    "\n",
    "# Initialize and train the Random Forest Classifier\n",
    "model = RandomForestClassifier(random_state=42)\n",
    "model.fit(X_train_scaled, y_train)\n",
    "\n",
    "# Predict on the test set\n",
    "y_pred = model.predict(X_test_scaled)\n",
    "\n",
    "# Performance Metrics\n",
    "accuracy = accuracy_score(y_test, y_pred)\n",
    "print(f\"\\nAccuracy: {accuracy:.4f}\")\n",
    "\n",
    "print(\"\\nClassification Report:\")\n",
    "print(classification_report(y_test, y_pred))\n",
    "\n",
    "# Confusion Matrix\n",
    "conf_matrix = confusion_matrix(y_test, y_pred)\n",
    "plt.figure(figsize=(10, 7))\n",
    "sns.heatmap(conf_matrix, annot=True, fmt='d', cmap='Blues')\n",
    "plt.title('Confusion Matrix')\n",
    "plt.xlabel('Predicted')\n",
    "plt.ylabel('Actual')\n",
    "plt.show()\n"
   ]
  },
  {
   "cell_type": "markdown",
   "metadata": {},
   "source": [
    "## Evaluation\n",
    "\n",
    "Evaluation\n",
    "\n",
    "To evaluate the baseline model:\n",
    "\n",
    "- Accuracy: Proportion of correct predictions out of all predictions.\n",
    "- Classification Report: Includes precision, recall, and F1-score for each class, providing detailed insights into model performance.\n",
    "- Confusion Matrix: Displays actual vs. predicted values to analyze performance for each class.\n",
    "\n",
    "Example Output:\n",
    "\n",
    "- Accuracy: Indicates the overall performance.\n",
    "- Confusion Matrix: Highlights areas where the model misclassified.\n",
    "- Classification Report: Shows per-class performance metrics, aiding in identifying underperforming categories.\n",
    "\n"
   ]
  }
 ],
 "metadata": {
  "kernelspec": {
   "display_name": "Python 3",
   "language": "python",
   "name": "python3"
  },
  "language_info": {
   "codemirror_mode": {
    "name": "ipython",
    "version": 3
   },
   "file_extension": ".py",
   "mimetype": "text/x-python",
   "name": "python",
   "nbconvert_exporter": "python",
   "pygments_lexer": "ipython3",
   "version": "3.12.1"
  }
 },
 "nbformat": 4,
 "nbformat_minor": 2
}
