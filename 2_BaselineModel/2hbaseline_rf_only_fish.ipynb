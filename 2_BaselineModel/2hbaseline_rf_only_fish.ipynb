{
 "cells": [
  {
   "cell_type": "markdown",
   "metadata": {},
   "source": [
    "# Baseline Model\n",
    "using Random-Forest on sequence data without aggregating, this script only does binary classification between \"Underway using engine\" and \"Engaged in fishing\".\n",
    "\n",
    "## Table of Contents\n",
    "1. [Model Choice](#model-choice)\n",
    "2. [Feature Selection](#feature-selection)\n",
    "3. [Implementation](#implementation)\n",
    "4. [Evaluation](#evaluation)\n"
   ]
  },
  {
   "cell_type": "markdown",
   "metadata": {},
   "source": [
    "## Model Choice\n",
    "\n",
    "A random forest model is chosen as the baseline model due to its efficiency in grasping more complex situation for binary or multi-class classification tasks. The aim is to see if patterns in the data can be processed into meaningful results by a relatively simple model.\n"
   ]
  },
  {
   "cell_type": "markdown",
   "metadata": {},
   "source": [
    "## Feature Selection\n",
    "\n",
    "The features selected are based on their relevance to predicting Navigational Status. These include:\n",
    "- Speed over Ground (SOG): Vessel speed, which varies significantly across statuses.\n",
    "- Course over Ground (COG): Direction of the vessel.\n",
    "- Heading: Indicates the vessel's orientation.\n",
    "\n",
    "The target variable is Navigational Status."
   ]
  },
  {
   "cell_type": "markdown",
   "metadata": {},
   "source": [
    "## Implementation\n",
    "\n",
    "[Implement your baseline model here.]\n",
    "\n"
   ]
  },
  {
   "cell_type": "code",
   "execution_count": 3,
   "metadata": {},
   "outputs": [
    {
     "name": "stdout",
     "output_type": "stream",
     "text": [
      "Number of sequences: 2229, Sequence length: 120, Features: 5\n",
      "\n",
      "Accuracy: 0.7892\n",
      "\n",
      "Classification Report:\n",
      "              precision    recall  f1-score   support\n",
      "\n",
      "           0       0.78      0.83      0.80       231\n",
      "           1       0.80      0.75      0.77       215\n",
      "\n",
      "    accuracy                           0.79       446\n",
      "   macro avg       0.79      0.79      0.79       446\n",
      "weighted avg       0.79      0.79      0.79       446\n",
      "\n"
     ]
    },
    {
     "data": {
      "image/png": "[encoded data removed]",
      "text/plain": [
       "<Figure size 1000x700 with 2 Axes>"
      ]
     },
     "metadata": {},
     "output_type": "display_data"
    }
   ],
   "source": [
    "import os\n",
    "import pandas as pd\n",
    "import numpy as np\n",
    "from sklearn.model_selection import train_test_split\n",
    "from sklearn.ensemble import RandomForestClassifier\n",
    "from sklearn.metrics import accuracy_score, classification_report, confusion_matrix\n",
    "from sklearn.preprocessing import StandardScaler\n",
    "import matplotlib.pyplot as plt\n",
    "import seaborn as sns\n",
    "\n",
    "# Define the folder containing 1-minute step data files\n",
    "data_folder = '../5_Data_Pipeline/time_sets_st_shortened'\n",
    "\n",
    "# Parameters for sequence processing\n",
    "sequence_length = 120  # 1 hour 59 minutes of data (1-minute steps)\n",
    "feature_columns = ['SOG', 'COG', 'Heading']\n",
    "target_column = 'Navigational status'\n",
    "\n",
    "# Function to apply cyclical encoding to COG and Heading\n",
    "def cyclical_encode(df, column_name):\n",
    "    # Convert degrees to radians\n",
    "    radians = np.deg2rad(df[column_name])\n",
    "    # Compute the sine and cosine components\n",
    "    df[column_name + '_sin'] = np.sin(radians)\n",
    "    df[column_name + '_cos'] = np.cos(radians)\n",
    "    return df\n",
    "\n",
    "# Initialize lists to store sequences and labels\n",
    "sequences = []\n",
    "labels = []\n",
    "\n",
    "# Process each file\n",
    "for file in os.listdir(data_folder):\n",
    "    if file.endswith('.csv'):\n",
    "        file_path = os.path.join(data_folder, file)\n",
    "        df = pd.read_csv(file_path)\n",
    "\n",
    "        # Ensure the required columns exist (excluding the header row)\n",
    "        if all(col in df.columns for col in feature_columns + [target_column]):\n",
    "            # Filter to only consider the two relevant \"Navigational status\" classes\n",
    "            df = df[df[target_column].isin(['Under way using engine', 'Engaged in fishing'])]\n",
    "\n",
    "            # If no rows remain after filtering, skip this file\n",
    "            if df.empty:\n",
    "                # print(f\"Skipping {file}, no valid rows for the selected navigational statuses.\")\n",
    "                continue\n",
    "\n",
    "            # Apply cyclical encoding for COG and Heading\n",
    "            df = cyclical_encode(df, 'COG')\n",
    "            df = cyclical_encode(df, 'Heading')\n",
    "\n",
    "            # Extract features (use the encoded COG and Heading columns)\n",
    "            features = df[['SOG', 'COG_sin', 'COG_cos', 'Heading_sin', 'Heading_cos']]\n",
    "            \n",
    "            # Get the most common target value (mode) for the file's data\n",
    "            target = df[target_column].mode()\n",
    "            if not target.empty:\n",
    "                target = target[0]  # Use the most common value\n",
    "            else:\n",
    "                print(f\"Skipping {file}, no valid target values.\")\n",
    "                continue\n",
    "\n",
    "            # Append the sequence and label\n",
    "            sequences.append(features.values)\n",
    "            labels.append(target)\n",
    "        else:\n",
    "            print(f\"Skipping {file}, missing required columns.\")\n",
    "\n",
    "# Convert lists to NumPy arrays\n",
    "X = np.array(sequences)  # Shape: [num_samples, sequence_length, num_features]\n",
    "y = np.array(labels)\n",
    "\n",
    "# Log dataset information\n",
    "print(f\"Number of sequences: {X.shape[0]}, Sequence length: {X.shape[1]}, Features: {X.shape[2]}\")\n",
    "\n",
    "# Encode target labels\n",
    "y = pd.Series(y).astype('category').cat.codes.values\n",
    "\n",
    "# Split the dataset into training and test sets\n",
    "X_train, X_test, y_train, y_test = train_test_split(X, y, test_size=0.2, random_state=42)\n",
    "\n",
    "# Flatten sequences for non-sequence models (e.g., Random Forest)\n",
    "X_train_flat = X_train.reshape(X_train.shape[0], -1)\n",
    "X_test_flat = X_test.reshape(X_test.shape[0], -1)\n",
    "\n",
    "# Scale the data\n",
    "scaler = StandardScaler()\n",
    "X_train_scaled = scaler.fit_transform(X_train_flat)\n",
    "X_test_scaled = scaler.transform(X_test_flat)\n",
    "\n",
    "# Initialize and train the Random Forest Classifier\n",
    "model = RandomForestClassifier(random_state=42)\n",
    "model.fit(X_train_scaled, y_train)\n",
    "\n",
    "# Predict on the test set\n",
    "y_pred = model.predict(X_test_scaled)\n",
    "\n",
    "# Performance Metrics\n",
    "accuracy = accuracy_score(y_test, y_pred)\n",
    "print(f\"\\nAccuracy: {accuracy:.4f}\")\n",
    "\n",
    "print(\"\\nClassification Report:\")\n",
    "print(classification_report(y_test, y_pred))\n",
    "\n",
    "# Confusion Matrix\n",
    "conf_matrix = confusion_matrix(y_test, y_pred)\n",
    "plt.figure(figsize=(10, 7))\n",
    "sns.heatmap(conf_matrix, annot=True, fmt='d', cmap='Blues')\n",
    "plt.title('Confusion Matrix')\n",
    "plt.xlabel('Predicted')\n",
    "plt.ylabel('Actual')\n",
    "plt.show()"
   ]
  },
  {
   "cell_type": "markdown",
   "metadata": {},
   "source": [
    "## Evaluation\n",
    "\n",
    "Evaluation\n",
    "\n",
    "To evaluate the baseline model:\n",
    "\n",
    "- Accuracy: Proportion of correct predictions out of all predictions.\n",
    "- Classification Report: Includes precision, recall, and F1-score for each class, providing detailed insights into model performance.\n",
    "- Confusion Matrix: Displays actual vs. predicted values to analyze performance for each class.\n",
    "\n",
    "Example Output:\n",
    "\n",
    "- Accuracy: Indicates the overall performance.\n",
    "- Confusion Matrix: Highlights areas where the model misclassified.\n",
    "- Classification Report: Shows per-class performance metrics, aiding in identifying underperforming categories.\n",
    "\n"
   ]
  }
 ],
 "metadata": {
  "kernelspec": {
   "display_name": "tensorflow_env",
   "language": "python",
   "name": "python3"
  },
  "language_info": {
   "codemirror_mode": {
    "name": "ipython",
    "version": 3
   },
   "file_extension": ".py",
   "mimetype": "text/x-python",
   "name": "python",
   "nbconvert_exporter": "python",
   "pygments_lexer": "ipython3",
   "version": "3.10.15"
  }
 },
 "nbformat": 4,
 "nbformat_minor": 2
}
