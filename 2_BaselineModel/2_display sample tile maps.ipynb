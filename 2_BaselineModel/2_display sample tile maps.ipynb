{
 "cells": [
  {
   "cell_type": "code",
   "execution_count": 2,
   "metadata": {},
   "outputs": [
    {
     "ename": "",
     "evalue": "",
     "output_type": "error",
     "traceback": [
      "\u001b[1;31mDer Kernel ist beim Ausführen von Code in der aktuellen Zelle oder einer vorherigen Zelle abgestürzt. \n",
      "\u001b[1;31mBitte überprüfen Sie den Code in der/den Zelle(n), um eine mögliche Fehlerursache zu identifizieren. \n",
      "\u001b[1;31mKlicken Sie <a href='https://aka.ms/vscodeJupyterKernelCrash'>hier</a>, um weitere Informationen zu erhalten. \n",
      "\u001b[1;31mWeitere Informationen finden Sie unter Jupyter <a href='command:jupyter.viewOutput'>Protokoll</a>."
     ]
    }
   ],
   "source": [
    "import os\n",
    "import pandas as pd\n",
    "import matplotlib.pyplot as plt\n",
    "from geopy.distance import geodesic\n",
    "import numpy as np\n",
    "\n",
    "# Folder containing the .csv files\n",
    "folder_path = \"./time_sets\"\n",
    "\n",
    "# Map tile size in nautical miles\n",
    "tile_width_nm = 5\n",
    "tile_height_nm = 5\n",
    "\n",
    "# Conversion from nautical miles to degrees (approximate, depends on latitude)\n",
    "nm_to_deg = 1 / 60\n",
    "\n",
    "# Initialize a dictionary to count navigational statuses\n",
    "nav_status_counts = {}\n",
    "\n",
    "# Function to calculate bounding box\n",
    "def calculate_bounding_box(center_lat, center_lon, width_nm, height_nm):\n",
    "    lat_delta = height_nm * nm_to_deg\n",
    "    lon_delta = width_nm * nm_to_deg / np.cos(np.radians(center_lat))\n",
    "    return (center_lat - lat_delta, center_lat + lat_delta,\n",
    "            center_lon - lon_delta, center_lon + lon_delta)\n",
    "\n",
    "# Function to plot vessel movements on a map tile\n",
    "def plot_map(data, file_name, bbox):\n",
    "    plt.figure(figsize=(8, 8))\n",
    "    plt.plot(data['Longitude'], data['Latitude'], marker='o', markersize=4, label='Vessel Movement')\n",
    "    plt.xlim([bbox[2], bbox[3]])  # Set longitude bounds\n",
    "    plt.ylim([bbox[0], bbox[1]])  # Set latitude bounds\n",
    "    plt.xlabel(\"Longitude\")\n",
    "    plt.ylabel(\"Latitude\")\n",
    "    plt.title(f\"Vessel Movement: {file_name}\")\n",
    "    plt.legend()\n",
    "    plt.grid()\n",
    "    plt.savefig(f\"map_tiles/{file_name}.png\")\n",
    "    plt.close()\n",
    "\n",
    "# Create output folder for map tiles\n",
    "os.makedirs(\"map_tiles\", exist_ok=True)\n",
    "\n",
    "# Process each file\n",
    "for file in os.listdir(folder_path):\n",
    "    if file.endswith(\".csv\"):\n",
    "        file_path = os.path.join(folder_path, file)\n",
    "        \n",
    "        # Load CSV file\n",
    "        data = pd.read_csv(file_path)\n",
    "        \n",
    "        # Ensure 'Navigational status' has a single unique value\n",
    "        unique_status = data['Navigational status'].unique()\n",
    "        if len(unique_status) == 1:\n",
    "            status = unique_status[0]\n",
    "            nav_status_counts[status] = nav_status_counts.get(status, 0) + 1\n",
    "            \n",
    "            # Calculate the bounding box for the map tile\n",
    "            center_lat = data['Latitude'].mean()\n",
    "            center_lon = data['Longitude'].mean()\n",
    "            bbox = calculate_bounding_box(center_lat, center_lon, tile_width_nm, tile_height_nm)\n",
    "            \n",
    "            # Plot the map tile\n",
    "            plot_map(data, file.replace(\".csv\", \"\"), bbox)\n",
    "\n",
    "# Display the counts of navigational statuses\n",
    "print(\"Counts of Navigational Statuses:\")\n",
    "for status, count in nav_status_counts.items():\n",
    "    print(f\"Status {status}: {count} files\")\n"
   ]
  }
 ],
 "metadata": {
  "kernelspec": {
   "display_name": "Python 3",
   "language": "python",
   "name": "python3"
  },
  "language_info": {
   "codemirror_mode": {
    "name": "ipython",
    "version": 3
   },
   "file_extension": ".py",
   "mimetype": "text/x-python",
   "name": "python",
   "nbconvert_exporter": "python",
   "pygments_lexer": "ipython3",
   "version": "3.12.1"
  }
 },
 "nbformat": 4,
 "nbformat_minor": 2
}
