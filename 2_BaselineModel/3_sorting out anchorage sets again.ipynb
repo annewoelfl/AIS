{
 "cells": [
  {
   "cell_type": "code",
   "execution_count": 2,
   "metadata": {},
   "outputs": [
    {
     "name": "stdout",
     "output_type": "stream",
     "text": [
      "Moved filtered_219017843_20240523_0816-20240523_0831_standardized_10s.csv to anchorage_files_standardized\n",
      "Moved filtered_219017843_20240523_0831-20240523_0846_standardized_10s.csv to anchorage_files_standardized\n",
      "Moved filtered_219017843_20240523_0846-20240523_0901_standardized_10s.csv to anchorage_files_standardized\n",
      "Moved filtered_219017843_20240523_0901-20240523_0916_standardized_10s.csv to anchorage_files_standardized\n",
      "Moved filtered_219017843_20240523_1046-20240523_1101_standardized_10s.csv to anchorage_files_standardized\n",
      "Moved filtered_219017843_20240523_1101-20240523_1116_standardized_10s.csv to anchorage_files_standardized\n",
      "Moved filtered_219017843_20240523_1131-20240523_1146_standardized_10s.csv to anchorage_files_standardized\n",
      "Moved filtered_219017843_20240523_1201-20240523_1216_standardized_10s.csv to anchorage_files_standardized\n",
      "Moved filtered_219017843_20240523_1216-20240523_1231_standardized_10s.csv to anchorage_files_standardized\n",
      "No entries east of 9 in filtered_219030452_20240527_0328-20240527_0342_standardized_10s.csv\n",
      "No entries east of 9 in filtered_219030452_20240527_0628-20240527_0642_standardized_10s.csv\n",
      "No entries east of 9 in filtered_219030452_20240527_0658-20240527_0712_standardized_10s.csv\n",
      "No entries east of 9 in filtered_219030452_20240527_0728-20240527_0742_standardized_10s.csv\n",
      "No entries east of 9 in filtered_219030452_20240527_0758-20240527_0812_standardized_10s.csv\n",
      "No entries east of 9 in filtered_219030452_20240527_0828-20240527_0842_standardized_10s.csv\n",
      "No entries east of 9 in filtered_219030452_20240527_0843-20240527_0857_standardized_10s.csv\n",
      "No entries east of 9 in filtered_219030955_20240523_2118-20240523_2133_standardized_10s.csv\n",
      "No entries east of 9 in filtered_219030955_20240523_2148-20240523_2203_standardized_10s.csv\n",
      "No entries east of 9 in filtered_219030955_20240523_2203-20240523_2218_standardized_10s.csv\n",
      "No entries east of 9 in filtered_219030955_20240523_2248-20240523_2303_standardized_10s.csv\n",
      "No entries east of 9 in filtered_219030955_20240523_2333-20240523_2348_standardized_10s.csv\n",
      "No entries east of 9 in filtered_219030955_20240523_2348-20240524_0003_standardized_10s.csv\n",
      "Moved filtered_265028000_20241129_2045-20241129_2100_standardized_10s.csv to anchorage_files_standardized\n",
      "Moved filtered_265028000_20241129_2100-20241129_2115_standardized_10s.csv to anchorage_files_standardized\n"
     ]
    }
   ],
   "source": [
    "import os\n",
    "import shutil\n",
    "import pandas as pd\n",
    "\n",
    "def filter_and_move_files(source_folder, dest_folder, threshold_longitude):\n",
    "    \"\"\"\n",
    "    This function filters CSV files in the source folder and moves those that\n",
    "    contain at least one entry with longitude > threshold_longitude to the destination folder.\n",
    "\n",
    "    Parameters:\n",
    "    - source_folder: Path to the folder containing the CSV files.\n",
    "    - dest_folder: Path to the folder where files will be moved if they meet the criteria.\n",
    "    - threshold_longitude: Longitude value to filter records (e.g., move if any entry has Longitude > threshold_longitude).\n",
    "    \"\"\"\n",
    "\n",
    "    # Ensure destination folder exists\n",
    "    if not os.path.exists(dest_folder):\n",
    "        os.makedirs(dest_folder)\n",
    "\n",
    "    # Loop over each file in the source folder\n",
    "    for filename in os.listdir(source_folder):\n",
    "        if filename.endswith('.csv'):\n",
    "            file_path = os.path.join(source_folder, filename)\n",
    "\n",
    "            # Read CSV file into a DataFrame\n",
    "            try:\n",
    "                df = pd.read_csv(file_path)\n",
    "            except Exception as e:\n",
    "                print(f\"Error reading {filename}: {e}\")\n",
    "                continue\n",
    "\n",
    "            # Check if the DataFrame contains 'Longitude' column\n",
    "            if 'Longitude' in df.columns:\n",
    "                # Check if any entry has a longitude value greater than the threshold\n",
    "                if (df['Longitude'] > threshold_longitude).any():\n",
    "                    # Move the file to the destination folder\n",
    "                    dest_path = os.path.join(dest_folder, filename)\n",
    "                    shutil.move(file_path, dest_path)\n",
    "                    print(f\"Moved {filename} to {dest_folder}\")\n",
    "                else:\n",
    "                    print(f\"No entries east of {threshold_longitude} in {filename}\")\n",
    "            else:\n",
    "                print(f\"File {filename} does not contain a 'Longitude' column.\")\n",
    "\n",
    "# Example usage\n",
    "source_folder = 'time_sets_standardized_out'\n",
    "dest_folder = 'anchorage_files_standardized'\n",
    "threshold_longitude = 9  # Define your threshold longitude (e.g., move files with any entry east of 0°)\n",
    "\n",
    "filter_and_move_files(source_folder, dest_folder, threshold_longitude)\n"
   ]
  }
 ],
 "metadata": {
  "kernelspec": {
   "display_name": "tensorflow_env",
   "language": "python",
   "name": "python3"
  },
  "language_info": {
   "codemirror_mode": {
    "name": "ipython",
    "version": 3
   },
   "file_extension": ".py",
   "mimetype": "text/x-python",
   "name": "python",
   "nbconvert_exporter": "python",
   "pygments_lexer": "ipython3",
   "version": "3.10.15"
  }
 },
 "nbformat": 4,
 "nbformat_minor": 2
}
