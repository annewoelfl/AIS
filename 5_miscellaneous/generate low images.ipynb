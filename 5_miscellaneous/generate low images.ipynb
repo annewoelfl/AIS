{
 "cells": [
  {
   "cell_type": "code",
   "execution_count": 3,
   "metadata": {},
   "outputs": [
    {
     "name": "stdout",
     "output_type": "stream",
     "text": [
      "Resized image saved: ./images_to_compare/low\\filtered_261004881_20240530_0800-20240530_1000_standardized_60s.png\n",
      "Resized image saved: ./images_to_compare/low\\filtered_261004881_20240530_1200-20240530_1400_standardized_60s.png\n",
      "Resized image saved: ./images_to_compare/low\\filtered_261004881_20240530_1400-20240530_1600_standardized_60s.png\n",
      "Resized image saved: ./images_to_compare/low\\filtered_261004881_20240530_1600-20240530_1759_standardized_60s.png\n",
      "Resized image saved: ./images_to_compare/low\\filtered_261004881_20240530_1800-20240530_2000_standardized_60s.png\n",
      "Resized image saved: ./images_to_compare/low\\filtered_261004881_20240530_2000-20240530_2200_standardized_60s.png\n",
      "Resized image saved: ./images_to_compare/low\\filtered_261004881_20240531_0400-20240531_0600_standardized_60s.png\n",
      "Resized image saved: ./images_to_compare/low\\filtered_261004881_20240531_0600-20240531_0800_standardized_60s.png\n",
      "Resized image saved: ./images_to_compare/low\\filtered_261004881_20240531_0800-20240531_0959_standardized_60s.png\n",
      "Resized image saved: ./images_to_compare/low\\filtered_261004881_20240531_1000-20240531_1159_standardized_60s.png\n"
     ]
    }
   ],
   "source": [
    "from PIL import Image\n",
    "import os\n",
    "\n",
    "# Define the source folder path containing the images\n",
    "source_folder_path = './images_to_compare/high'\n",
    "\n",
    "# Define the destination folder path where resized images will be saved\n",
    "destination_folder_path = './images_to_compare/low'\n",
    "\n",
    "# Create destination folder if it does not exist\n",
    "if not os.path.exists(destination_folder_path):\n",
    "    os.makedirs(destination_folder_path)\n",
    "\n",
    "# Loop through all files in the source folder\n",
    "for filename in os.listdir(source_folder_path):\n",
    "    # Only process image files (you can add more extensions as needed)\n",
    "    if filename.endswith(('.png', '.jpg', '.jpeg', '.bmp', '.gif')):\n",
    "        # Full path to the image file in the source folder\n",
    "        image_path = os.path.join(source_folder_path, filename)\n",
    "        \n",
    "        # Open the image file\n",
    "        with Image.open(image_path) as img:\n",
    "            # Resize the image\n",
    "            img_resized = img.resize((300, 300))\n",
    "            \n",
    "            # Define the path to save the resized image in the destination folder\n",
    "            save_path = os.path.join(destination_folder_path, filename)\n",
    "            \n",
    "            # Save the resized image\n",
    "            img_resized.save(save_path)\n",
    "\n",
    "        print(f\"Resized image saved: {save_path}\")\n"
   ]
  }
 ],
 "metadata": {
  "kernelspec": {
   "display_name": "tensorflow_env",
   "language": "python",
   "name": "python3"
  },
  "language_info": {
   "codemirror_mode": {
    "name": "ipython",
    "version": 3
   },
   "file_extension": ".py",
   "mimetype": "text/x-python",
   "name": "python",
   "nbconvert_exporter": "python",
   "pygments_lexer": "ipython3",
   "version": "3.10.15"
  }
 },
 "nbformat": 4,
 "nbformat_minor": 2
}
